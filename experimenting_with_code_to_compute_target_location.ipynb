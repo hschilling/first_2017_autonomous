{
 "cells": [
  {
   "cell_type": "markdown",
   "metadata": {},
   "source": [
    "# Experimenting with some code to calculate the robot position relative to the gear target using the image data from the Raspberry Pi"
   ]
  },
  {
   "cell_type": "code",
   "execution_count": 220,
   "metadata": {
    "collapsed": true
   },
   "outputs": [],
   "source": [
    "import math"
   ]
  },
  {
   "cell_type": "markdown",
   "metadata": {},
   "source": [
    "## Use the tape height to determine the distance to a tape"
   ]
  },
  {
   "cell_type": "code",
   "execution_count": 219,
   "metadata": {
    "collapsed": true
   },
   "outputs": [],
   "source": [
    "# Knowns\n",
    "tape_height_inches = 5.0\n",
    "camera_field_of_view = 70.0 # degrees - sort of the angle subtended\n",
    "camera_width_pixels = 640.0 # 1280.\n",
    "camera_height_pixels = 480.0  # 800."
   ]
  },
  {
   "cell_type": "code",
   "execution_count": 154,
   "metadata": {
    "collapsed": true
   },
   "outputs": [],
   "source": [
    "# Measured\n",
    "tape_height_pixels = 200."
   ]
  },
  {
   "cell_type": "code",
   "execution_count": 155,
   "metadata": {
    "collapsed": false
   },
   "outputs": [
    {
     "name": "stdout",
     "output_type": "stream",
     "text": [
      "2.0.2\n"
     ]
    }
   ],
   "source": [
    "from plotly import __version__\n",
    "from plotly.offline import download_plotlyjs, init_notebook_mode, plot, iplot\n",
    "\n",
    "print __version__ # requires version >= 1.9.0\n"
   ]
  },
  {
   "cell_type": "code",
   "execution_count": 156,
   "metadata": {
    "collapsed": false
   },
   "outputs": [
    {
     "data": {
      "text/html": [
       "<script>requirejs.config({paths: { 'plotly': ['https://cdn.plot.ly/plotly-latest.min']},});if(!window.Plotly) {{require(['plotly'],function(plotly) {window.Plotly=plotly;});}}</script>"
      ],
      "text/plain": [
       "<IPython.core.display.HTML object>"
      ]
     },
     "metadata": {},
     "output_type": "display_data"
    }
   ],
   "source": [
    "init_notebook_mode(connected=True)"
   ]
  },
  {
   "cell_type": "code",
   "execution_count": 157,
   "metadata": {
    "collapsed": false
   },
   "outputs": [],
   "source": [
    "#iplot([{\"x\": [1, 2, 3], \"y\": [3, 1, 6]}])"
   ]
  },
  {
   "cell_type": "code",
   "execution_count": 158,
   "metadata": {
    "collapsed": true
   },
   "outputs": [],
   "source": [
    "# Compute tape distance from camera \n",
    "#  using these equations\n",
    "#   tan(tape_height_angle_subtended) = tape_height_inches / tape_distance_from_camera\n",
    "#   tape_height_angle_subtended = camera_field_of_view * tape_height_pixels / camera_height_pixels\n",
    "#\n",
    "# tape_distance_from_camera = tape_height_inches / tan(tape_height_angle_subtended)\n",
    "#\n",
    "tape_height_angle_subtended = camera_field_of_view * tape_height_pixels / camera_height_pixels\n",
    "tape_distance_from_camera = tape_height_inches / math.tan(math.radians(tape_height_angle_subtended))"
   ]
  },
  {
   "cell_type": "code",
   "execution_count": 159,
   "metadata": {
    "collapsed": false
   },
   "outputs": [
    {
     "data": {
      "text/plain": [
       "15.857974011816063"
      ]
     },
     "execution_count": 159,
     "metadata": {},
     "output_type": "execute_result"
    }
   ],
   "source": [
    "tape_distance_from_camera"
   ]
  },
  {
   "cell_type": "code",
   "execution_count": 160,
   "metadata": {
    "collapsed": true
   },
   "outputs": [],
   "source": [
    "def calc_distance_from_camera_from_heights( pixel_height, height_inches):\n",
    "    height_angle_subtended = camera_field_of_view * pixel_height / camera_height_pixels\n",
    "    distance_from_camera = height_inches / math.tan(math.radians(height_angle_subtended))\n",
    "    return distance_from_camera"
   ]
  },
  {
   "cell_type": "code",
   "execution_count": 161,
   "metadata": {
    "collapsed": false
   },
   "outputs": [
    {
     "data": {
      "text/plain": [
       "15.857974011816063"
      ]
     },
     "execution_count": 161,
     "metadata": {},
     "output_type": "execute_result"
    }
   ],
   "source": [
    "calc_distance_from_camera_from_heights(tape_height_pixels, tape_height_inches)"
   ]
  },
  {
   "cell_type": "code",
   "execution_count": null,
   "metadata": {
    "collapsed": true
   },
   "outputs": [],
   "source": [
    "calc_distance_from_camera_from_heights(150.0, tape_height_inches)"
   ]
  },
  {
   "cell_type": "markdown",
   "metadata": {},
   "source": [
    "## For simple case of robot pointing at target but at an angle, compute distance to target"
   ]
  },
  {
   "cell_type": "code",
   "execution_count": 162,
   "metadata": {
    "collapsed": true
   },
   "outputs": [],
   "source": [
    "# Knowns\n",
    "tape_width_inches = 2.\n",
    "tape_centers_delta_inches = 8.25"
   ]
  },
  {
   "cell_type": "code",
   "execution_count": 163,
   "metadata": {
    "collapsed": true
   },
   "outputs": [],
   "source": [
    "# for this scenario\n",
    "tilt_angle = 20. # degrees\n",
    "target_distance_from_camera = 30. "
   ]
  },
  {
   "cell_type": "code",
   "execution_count": 164,
   "metadata": {
    "collapsed": true
   },
   "outputs": [],
   "source": [
    "tape_right_distance_from_camera = target_distance_from_camera + (tape_centers_delta_inches/2.0) * math.tan(math.radians(tilt_angle))\n",
    "tape_left_distance_from_camera = target_distance_from_camera - (tape_centers_delta_inches/2.0) * math.tan(math.radians(tilt_angle))"
   ]
  },
  {
   "cell_type": "code",
   "execution_count": 165,
   "metadata": {
    "collapsed": false
   },
   "outputs": [
    {
     "data": {
      "text/plain": [
       "31.501377216348086"
      ]
     },
     "execution_count": 165,
     "metadata": {},
     "output_type": "execute_result"
    }
   ],
   "source": [
    "tape_right_distance_from_camera"
   ]
  },
  {
   "cell_type": "code",
   "execution_count": 166,
   "metadata": {
    "collapsed": false
   },
   "outputs": [
    {
     "data": {
      "text/plain": [
       "28.498622783651914"
      ]
     },
     "execution_count": 166,
     "metadata": {},
     "output_type": "execute_result"
    }
   ],
   "source": [
    "tape_left_distance_from_camera"
   ]
  },
  {
   "cell_type": "markdown",
   "metadata": {},
   "source": [
    "#### first see what is the difference in pixel height for this scenario"
   ]
  },
  {
   "cell_type": "code",
   "execution_count": 167,
   "metadata": {
    "collapsed": true
   },
   "outputs": [],
   "source": [
    "def calc_pixel_height_from_distance_and_actual_height(distance_from_camera,height_inches):\n",
    "    angle_subtended =  math.degrees(math.atan(height_inches/distance_from_camera))\n",
    "    pixel_height = ( camera_height_pixels / camera_field_of_view ) * angle_subtended\n",
    "    return pixel_height"
   ]
  },
  {
   "cell_type": "code",
   "execution_count": 168,
   "metadata": {
    "collapsed": true
   },
   "outputs": [],
   "source": [
    "# What are the heights in pixels for the two pieces of tape?\n",
    "tape_right_height_pixels = ( camera_height_pixels / camera_field_of_view ) * math.degrees(math.atan(tape_height_inches/tape_right_distance_from_camera))\n",
    "tape_left_height_pixels = ( camera_height_pixels / camera_field_of_view ) * math.degrees(math.atan(tape_height_inches/tape_left_distance_from_camera))"
   ]
  },
  {
   "cell_type": "code",
   "execution_count": 169,
   "metadata": {
    "collapsed": false
   },
   "outputs": [
    {
     "data": {
      "text/plain": [
       "103.07353822816032"
      ]
     },
     "execution_count": 169,
     "metadata": {},
     "output_type": "execute_result"
    }
   ],
   "source": [
    "tape_right_height_pixels"
   ]
  },
  {
   "cell_type": "code",
   "execution_count": 170,
   "metadata": {
    "collapsed": false
   },
   "outputs": [
    {
     "data": {
      "text/plain": [
       "113.72683368382303"
      ]
     },
     "execution_count": 170,
     "metadata": {},
     "output_type": "execute_result"
    }
   ],
   "source": [
    "tape_left_height_pixels"
   ]
  },
  {
   "cell_type": "markdown",
   "metadata": {},
   "source": [
    "#### now go the other way. Given the pixel heights, what is the computed tilt_angle?"
   ]
  },
  {
   "cell_type": "code",
   "execution_count": 171,
   "metadata": {
    "collapsed": true
   },
   "outputs": [],
   "source": [
    "computed_tape_right_distance_from_camera = calc_distance_from_camera_from_heights(tape_right_height_pixels,tape_height_inches)\n",
    "computed_tape_left_distance_from_camera = calc_distance_from_camera_from_heights(tape_left_height_pixels,tape_height_inches)"
   ]
  },
  {
   "cell_type": "code",
   "execution_count": 172,
   "metadata": {
    "collapsed": false
   },
   "outputs": [
    {
     "data": {
      "text/plain": [
       "31.50137721634808"
      ]
     },
     "execution_count": 172,
     "metadata": {},
     "output_type": "execute_result"
    }
   ],
   "source": [
    "computed_tape_right_distance_from_camera"
   ]
  },
  {
   "cell_type": "code",
   "execution_count": 173,
   "metadata": {
    "collapsed": false
   },
   "outputs": [
    {
     "data": {
      "text/plain": [
       "28.49862278365191"
      ]
     },
     "execution_count": 173,
     "metadata": {},
     "output_type": "execute_result"
    }
   ],
   "source": [
    "computed_tape_left_distance_from_camera"
   ]
  },
  {
   "cell_type": "code",
   "execution_count": 174,
   "metadata": {
    "collapsed": false
   },
   "outputs": [
    {
     "data": {
      "text/plain": [
       "103.07353822816034"
      ]
     },
     "execution_count": 174,
     "metadata": {},
     "output_type": "execute_result"
    }
   ],
   "source": [
    "pixel_height = calc_pixel_height_from_distance_and_actual_height(computed_tape_right_distance_from_camera,tape_height_inches)\n",
    "pixel_height"
   ]
  },
  {
   "cell_type": "code",
   "execution_count": 175,
   "metadata": {
    "collapsed": true
   },
   "outputs": [],
   "source": [
    "def triangle_angle (a, b, c):\n",
    "    return math.degrees(math.acos((c**2 - b**2 - a**2)/(-2.0 * a * b)))"
   ]
  },
  {
   "cell_type": "code",
   "execution_count": 176,
   "metadata": {
    "collapsed": false
   },
   "outputs": [
    {
     "data": {
      "text/plain": [
       "53.13010235415599"
      ]
     },
     "execution_count": 176,
     "metadata": {},
     "output_type": "execute_result"
    }
   ],
   "source": [
    "triangle_angle(5.,3.,4.)"
   ]
  },
  {
   "cell_type": "code",
   "execution_count": 177,
   "metadata": {
    "collapsed": false
   },
   "outputs": [
    {
     "data": {
      "text/plain": [
       "14.734603526159638"
      ]
     },
     "execution_count": 177,
     "metadata": {},
     "output_type": "execute_result"
    }
   ],
   "source": [
    "# Not really correct! Just looks the same but totally unrelated to what I want to calculate\n",
    "triangle_angle(computed_tape_left_distance_from_camera,computed_tape_right_distance_from_camera,tape_centers_delta_inches)"
   ]
  },
  {
   "cell_type": "markdown",
   "metadata": {},
   "source": [
    "## Use the x pixel value for the center of the tape and the distance to the tape to compute the (x,y) coordinates of the center of the tape"
   ]
  },
  {
   "cell_type": "code",
   "execution_count": 178,
   "metadata": {
    "collapsed": true
   },
   "outputs": [],
   "source": [
    "# Measured\n",
    "#   x_center_right_tape_pixels"
   ]
  },
  {
   "cell_type": "code",
   "execution_count": 179,
   "metadata": {
    "collapsed": true
   },
   "outputs": [],
   "source": [
    "x_center_right_tape_pixels = 150.0\n",
    "x_center_left_tape_pixels = - 250.0"
   ]
  },
  {
   "cell_type": "code",
   "execution_count": 180,
   "metadata": {
    "collapsed": true
   },
   "outputs": [],
   "source": [
    "# tan of angle from axis of camera to angle that intersects the center of the tape = \n",
    "#      x coordinate of tape center in the coordinates of the camera\n",
    "#         divided by\n",
    "#      distance to the tape center which we can get from the calculations above using the tape height in pixels\n",
    "# the angle is approximately equal to       \n",
    "#         x coordinate of the center of the tape in pixels ( 0 in the middle of the camera\n",
    "#              times\n",
    "#         camera_field_of_view\n",
    "#              divided by \n",
    "#         camera_width_pixels\n",
    "#\n",
    "#   Using those two equations, you can compute \n",
    "#         x coordinate of tape center in the coordinates of the camera"
   ]
  },
  {
   "cell_type": "code",
   "execution_count": 181,
   "metadata": {
    "collapsed": false
   },
   "outputs": [
    {
     "data": {
      "text/plain": [
       "(4.494708403735885, 31.179069307662793, 31.50137721634808)"
      ]
     },
     "execution_count": 181,
     "metadata": {},
     "output_type": "execute_result"
    }
   ],
   "source": [
    "x_center_right_tape = computed_tape_right_distance_from_camera * math.sin(math.radians(x_center_right_tape_pixels * camera_field_of_view / camera_width_pixels))\n",
    "y_center_right_tape = computed_tape_right_distance_from_camera * math.cos(math.radians(x_center_right_tape_pixels * camera_field_of_view / camera_width_pixels))\n",
    "x_center_right_tape, y_center_right_tape, computed_tape_right_distance_from_camera"
   ]
  },
  {
   "cell_type": "code",
   "execution_count": 182,
   "metadata": {
    "collapsed": false
   },
   "outputs": [
    {
     "data": {
      "text/plain": [
       "27.691121733682024"
      ]
     },
     "execution_count": 182,
     "metadata": {},
     "output_type": "execute_result"
    }
   ],
   "source": [
    "x_center_left_tape = computed_tape_left_distance_from_camera * math.cos(math.radians(x_center_left_tape_pixels * camera_field_of_view / camera_width_pixels))\n",
    "x_center_left_tape"
   ]
  },
  {
   "cell_type": "code",
   "execution_count": 183,
   "metadata": {
    "collapsed": true
   },
   "outputs": [],
   "source": [
    "def calc_xy_tape_center(computed_tape_distance_from_camera, x_center_tape_pixels):\n",
    "    x_center_tape = computed_tape_distance_from_camera * math.sin(math.radians(x_center_tape_pixels * camera_field_of_view / camera_width_pixels))\n",
    "    y_center_tape = computed_tape_distance_from_camera * math.cos(math.radians(x_center_tape_pixels * camera_field_of_view / camera_width_pixels))\n",
    "    return x_center_tape, y_center_tape"
   ]
  },
  {
   "cell_type": "code",
   "execution_count": 184,
   "metadata": {
    "collapsed": false
   },
   "outputs": [
    {
     "data": {
      "text/plain": [
       "(4.494708403735885, 31.179069307662793)"
      ]
     },
     "execution_count": 184,
     "metadata": {},
     "output_type": "execute_result"
    }
   ],
   "source": [
    "x_center_right_tape, y_center_right_tape = calc_xy_tape_center(computed_tape_right_distance_from_camera, x_center_right_tape_pixels)\n",
    "x_center_right_tape, y_center_right_tape"
   ]
  },
  {
   "cell_type": "code",
   "execution_count": 185,
   "metadata": {
    "collapsed": false
   },
   "outputs": [
    {
     "data": {
      "text/plain": [
       "(-6.735968949994258, 27.691121733682024)"
      ]
     },
     "execution_count": 185,
     "metadata": {},
     "output_type": "execute_result"
    }
   ],
   "source": [
    "x_center_left_tape, y_center_left_tape = calc_xy_tape_center(computed_tape_left_distance_from_camera, x_center_left_tape_pixels)\n",
    "x_center_left_tape, y_center_left_tape"
   ]
  },
  {
   "cell_type": "code",
   "execution_count": 186,
   "metadata": {
    "collapsed": true
   },
   "outputs": [],
   "source": [
    "def calc_xy_target(x_center_right_tape, y_center_right_tape,x_center_left_tape, y_center_left_tape ):\n",
    "    x_target_center = (x_center_right_tape + x_center_left_tape) * 0.5\n",
    "    y_target_center = (y_center_right_tape + y_center_left_tape) * 0.5\n",
    "    return x_target_center, y_target_center"
   ]
  },
  {
   "cell_type": "code",
   "execution_count": 187,
   "metadata": {
    "collapsed": false
   },
   "outputs": [
    {
     "data": {
      "text/plain": [
       "(-1.1206302731291866, 29.43509552067241)"
      ]
     },
     "execution_count": 187,
     "metadata": {},
     "output_type": "execute_result"
    }
   ],
   "source": [
    "x_target_center, y_target_center = calc_xy_target(x_center_right_tape, y_center_right_tape,x_center_left_tape, y_center_left_tape)\n",
    "x_target_center, y_target_center"
   ]
  },
  {
   "cell_type": "markdown",
   "metadata": {},
   "source": [
    "## Full test: \n",
    "    - set locations of the tape in camera coordinates\n",
    "    - compute the resulting values in the pixel coordinates of the camera image\n",
    "    - reverse that going from the pixel coordinates to the locations of the tape\n",
    "\n",
    "The final function has these as inputs:\n",
    "    - x_tape_left_center_pixels - coordinate system has 0,0 in the middle\n",
    "    - x_tape_left_height_pixels\n",
    "    - y_tape_right_center_pixels\n",
    "    - y_tape_right_height_pixels\n",
    "    \n",
    "And these as its outputs:\n",
    "    - x_target\n",
    "    - y_target\n",
    "    - angle_from_parallel"
   ]
  },
  {
   "cell_type": "code",
   "execution_count": 217,
   "metadata": {
    "collapsed": false
   },
   "outputs": [
    {
     "data": {
      "text/plain": [
       "(5.833630944789016, 29.833630944789018)"
      ]
     },
     "execution_count": 217,
     "metadata": {},
     "output_type": "execute_result"
    }
   ],
   "source": [
    "# For this scenario, choose these values\n",
    "distance = 24.0\n",
    "x_tape_left_center = 0.0\n",
    "y_tape_left_center = distance\n",
    "x_tape_right_center = 8.25 * math.sin(math.radians(45.0))\n",
    "y_tape_right_center = distance + 8.25 * math.cos(math.radians(45.0))\n",
    "x_tape_right_center, y_tape_right_center"
   ]
  },
  {
   "cell_type": "code",
   "execution_count": 208,
   "metadata": {
    "collapsed": true
   },
   "outputs": [],
   "source": [
    "def calc_x_pixel_from_xy(x,y):\n",
    "    '''x,y is in the camera coordinates'''\n",
    "    angle = math.degrees(math.atan(x/y))\n",
    "    print(angle)\n",
    "    return ( camera_width_pixels / camera_field_of_view ) * angle"
   ]
  },
  {
   "cell_type": "code",
   "execution_count": 212,
   "metadata": {
    "collapsed": false
   },
   "outputs": [
    {
     "name": "stdout",
     "output_type": "stream",
     "text": [
      "0.0\n",
      "11.0639434076\n"
     ]
    },
    {
     "data": {
      "text/plain": [
       "(0.0, 134.49473065166453, 202.3121080248823, 106.74787765397747)"
      ]
     },
     "execution_count": 212,
     "metadata": {},
     "output_type": "execute_result"
    }
   ],
   "source": [
    "# left tape\n",
    "x_tape_left_center_pixels = calc_x_pixel_from_xy(x_tape_left_center, y_tape_left_center)\n",
    "tape_left_height_pixels = calc_pixel_height_from_distance_and_actual_height(distance,tape_height_inches)\n",
    "\n",
    "# right tape\n",
    "x_tape_right_center_pixels = calc_x_pixel_from_xy(x_tape_right_center, y_tape_right_center)\n",
    "tape_right_distance = math.sqrt(x_tape_right_center**2 + y_tape_right_center**2)\n",
    "tape_right_height_pixels = calc_pixel_height_from_distance_and_actual_height(tape_right_distance,tape_height_inches)\n",
    "\n",
    "x_tape_left_center_pixels, tape_left_height_pixels, x_tape_right_center_pixels, tape_right_height_pixels"
   ]
  },
  {
   "cell_type": "code",
   "execution_count": 215,
   "metadata": {
    "collapsed": true
   },
   "outputs": [],
   "source": [
    "def calc_target_location(x_tape_left_center_pixels, tape_left_height_pixels, x_tape_right_center_pixels, tape_right_height_pixels):\n",
    "    tape_left_distance = calc_distance_from_camera_from_heights( tape_left_height_pixels, tape_height_inches)\n",
    "    tape_right_distance = calc_distance_from_camera_from_heights( tape_right_height_pixels, tape_height_inches)\n",
    "    \n",
    "    x_center_left_tape, y_center_left_tape = calc_xy_tape_center(tape_left_distance, x_tape_left_center_pixels)\n",
    "    x_center_right_tape, y_center_right_tape = calc_xy_tape_center(tape_right_distance, x_tape_right_center_pixels)\n",
    "    \n",
    "    return x_center_left_tape, y_center_left_tape, x_center_right_tape, y_center_right_tape"
   ]
  },
  {
   "cell_type": "code",
   "execution_count": 216,
   "metadata": {
    "collapsed": false
   },
   "outputs": [
    {
     "data": {
      "text/plain": [
       "(0.0, 24.0, 5.833630944789015, 29.833630944789014)"
      ]
     },
     "execution_count": 216,
     "metadata": {},
     "output_type": "execute_result"
    }
   ],
   "source": [
    "x_center_left_tape, y_center_left_tape, x_center_right_tape, y_center_right_tape = calc_target_location(x_tape_left_center_pixels, tape_left_height_pixels, x_tape_right_center_pixels, tape_right_height_pixels)\n",
    "x_center_left_tape, y_center_left_tape, x_center_right_tape, y_center_right_tape"
   ]
  },
  {
   "cell_type": "code",
   "execution_count": null,
   "metadata": {
    "collapsed": true
   },
   "outputs": [],
   "source": []
  }
 ],
 "metadata": {
  "kernelspec": {
   "display_name": "Python 2",
   "language": "python",
   "name": "python2"
  },
  "language_info": {
   "codemirror_mode": {
    "name": "ipython",
    "version": 2
   },
   "file_extension": ".py",
   "mimetype": "text/x-python",
   "name": "python",
   "nbconvert_exporter": "python",
   "pygments_lexer": "ipython2",
   "version": "2.7.11"
  }
 },
 "nbformat": 4,
 "nbformat_minor": 0
}
