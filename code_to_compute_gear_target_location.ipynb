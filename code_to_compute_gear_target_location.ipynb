{
 "cells": [
  {
   "cell_type": "markdown",
   "metadata": {},
   "source": [
    "# Proposed code to calculate the gear position relative to the robot camera given processed data from the camera and Raspberry Pi"
   ]
  },
  {
   "cell_type": "code",
   "execution_count": 1,
   "metadata": {
    "collapsed": true
   },
   "outputs": [],
   "source": [
    "import math"
   ]
  },
  {
   "cell_type": "markdown",
   "metadata": {},
   "source": [
    "## Some constants"
   ]
  },
  {
   "cell_type": "code",
   "execution_count": 2,
   "metadata": {
    "collapsed": true
   },
   "outputs": [],
   "source": [
    "# reflective tape dimensions - all in inches\n",
    "tape_height_inches = 5.0\n",
    "tape_width_inches = 2.\n",
    "tape_centers_delta_inches = 8.25 # distance between centers of the tape strips measured horizontally\n",
    "\n",
    "# camera constants - for now we are using the camera field of view as is. No calibration yet\n",
    "# From the specs for the Microsoft LifeCam HD 3000\n",
    "#    https://www.microsoft.com/accessories/en-us/products/webcams/lifecam-hd-3000/t3h-00011#techspecs-connect\n",
    "camera_field_of_view = 70.0 # degrees - sort of the angle subtended\n",
    "camera_width_pixels = 1280.\n",
    "camera_height_pixels = 800."
   ]
  },
  {
   "cell_type": "markdown",
   "metadata": {
    "collapsed": true
   },
   "source": [
    "## Output from the vision processing pipeline on the Raspberry Pi"
   ]
  },
  {
   "cell_type": "markdown",
   "metadata": {},
   "source": [
    "These are in the pixel coordinate system of the camera image with (0,0) in the center of the image\n",
    "\n",
    "    - x_center_left_tape_pixels\n",
    "    - height_left_tape_pixels\n",
    "\n",
    "    - x_center_right_tape_pixels\n",
    "    - height_right_tape_pixels"
   ]
  },
  {
   "cell_type": "markdown",
   "metadata": {},
   "source": [
    "## Function to calculate the position of the gear peg target given information about the location and sizes of the reflective tape in the image.\n",
    "\n",
    "Output of the function is in the coordinate system of the camera itself where the y axis points out along the camera lens axis and the x axis points to the right"
   ]
  },
  {
   "cell_type": "code",
   "execution_count": 3,
   "metadata": {
    "collapsed": false
   },
   "outputs": [],
   "source": [
    "def calc_gear_peg_location(x_center_left_tape_pixels, height_left_tape_pixels, \n",
    "                           x_center_right_tape_pixels, height_right_tape_pixels):\n",
    "    '''\n",
    "    Given:\n",
    "        - location of left and right tape centers in camera pixel coordinates\n",
    "        - height of left and right tapes in camera pixel coordinates\n",
    "    Calculate:\n",
    "        - the location of the gear peg in the (x,y) coordinates of the camera, in inches    \n",
    "    '''\n",
    "    x_center_left_tape, y_center_left_tape, x_center_right_tape, y_center_right_tape = \\\n",
    "        calc_tape_locations(x_center_left_tape_pixels, height_left_tape_pixels, \n",
    "                        x_center_right_tape_pixels, height_right_tape_pixels)\n",
    "        \n",
    "    # The gear peg is in the middle between the two reflective tapes\n",
    "    x_target_center = (x_center_right_tape + x_center_left_tape) * 0.5\n",
    "    y_target_center = (y_center_right_tape + y_center_left_tape) * 0.5\n",
    "    \n",
    "    return x_target_center, y_target_center"
   ]
  },
  {
   "cell_type": "markdown",
   "metadata": {},
   "source": [
    "## Need some supporting functions"
   ]
  },
  {
   "cell_type": "code",
   "execution_count": 4,
   "metadata": {
    "collapsed": true
   },
   "outputs": [],
   "source": [
    "def calc_tape_locations(x_center_left_tape_pixels, height_left_tape_pixels, \n",
    "                        x_center_right_tape_pixels, height_right_tape_pixels):\n",
    "    '''\n",
    "    Given:\n",
    "        - location of left and right tape centers in camera pixel coordinates\n",
    "        - height of left and right tapes in camera pixel coordinates\n",
    "    Calculate:\n",
    "        - the locations of the centers of the tape in the (x,y) coordinates of the camera, in inches\n",
    "    '''\n",
    "    # calculate the distance from the two pieces of tape to the robot camera\n",
    "    tape_left_distance = calc_distance_from_camera_from_heights( height_left_tape_pixels, tape_height_inches)\n",
    "    tape_right_distance = calc_distance_from_camera_from_heights( height_right_tape_pixels, tape_height_inches)\n",
    "    \n",
    "    x_center_left_tape, y_center_left_tape = calc_xy_tape_center(tape_left_distance, x_center_left_tape_pixels)\n",
    "    x_center_right_tape, y_center_right_tape = calc_xy_tape_center(tape_right_distance, x_center_right_tape_pixels)\n",
    "    \n",
    "    return x_center_left_tape, y_center_left_tape, x_center_right_tape, y_center_right_tape"
   ]
  },
  {
   "cell_type": "code",
   "execution_count": 5,
   "metadata": {
    "collapsed": true
   },
   "outputs": [],
   "source": [
    "def calc_distance_from_camera_from_heights( height_pixels, height_inches):\n",
    "    '''\n",
    "    Given:\n",
    "        - the height of one of the pieces of tape in pixels in the image\n",
    "        - the actual height of the piece of tape in inches\n",
    "    Calculate:\n",
    "        - the distance from the center of the camera coordinate system to the tape\n",
    "    '''\n",
    "    height_angle_subtended = camera_field_of_view * height_pixels / camera_height_pixels\n",
    "    distance_from_camera = height_inches / math.tan(math.radians(height_angle_subtended))\n",
    "    return distance_from_camera"
   ]
  },
  {
   "cell_type": "code",
   "execution_count": 6,
   "metadata": {
    "collapsed": true
   },
   "outputs": [],
   "source": [
    "def calc_xy_tape_center(tape_distance_from_camera, x_center_tape_pixels):\n",
    "    '''\n",
    "    Given:\n",
    "        - distance in inches from the center of the camera coordinate system to the tape\n",
    "        - the location of the center of the tape in the x coordinate of the camera image, in pixels\n",
    "    Calculate:\n",
    "        - the location of the tape in the (x,y) coordinate system of the camera, in inches\n",
    "    '''\n",
    "    x_center_tape = tape_distance_from_camera * math.sin(math.radians(x_center_tape_pixels * camera_field_of_view / camera_width_pixels))\n",
    "    y_center_tape = tape_distance_from_camera * math.cos(math.radians(x_center_tape_pixels * camera_field_of_view / camera_width_pixels))\n",
    "    return x_center_tape, y_center_tape"
   ]
  },
  {
   "cell_type": "markdown",
   "metadata": {},
   "source": [
    "## Example of using calc_tape_locations function"
   ]
  },
  {
   "cell_type": "code",
   "execution_count": 7,
   "metadata": {
    "collapsed": true
   },
   "outputs": [],
   "source": [
    "x_center_left_tape_pixels = 0.0\n",
    "height_left_tape_pixels = 134.49473065166453\n",
    "\n",
    "x_center_right_tape_pixels = 202.3121080248823\n",
    "height_right_tape_pixels = 106.74787765397747"
   ]
  },
  {
   "cell_type": "code",
   "execution_count": 8,
   "metadata": {
    "collapsed": false
   },
   "outputs": [
    {
     "data": {
      "text/plain": [
       "(2.9168154723945077, 26.916815472394507)"
      ]
     },
     "execution_count": 8,
     "metadata": {},
     "output_type": "execute_result"
    }
   ],
   "source": [
    "x_target_center, y_target_center = calc_gear_peg_location(x_center_left_tape_pixels, height_left_tape_pixels, \n",
    "                           x_center_right_tape_pixels, height_right_tape_pixels)\n",
    "x_target_center, y_target_center"
   ]
  },
  {
   "cell_type": "markdown",
   "metadata": {},
   "source": [
    "#### quick little test of sensitivity of calculation if the measured values from the image processing are all off by one pixel"
   ]
  },
  {
   "cell_type": "code",
   "execution_count": 9,
   "metadata": {
    "collapsed": false
   },
   "outputs": [
    {
     "data": {
      "text/plain": [
       "(2.9147254695444267, 26.681993771273106)"
      ]
     },
     "execution_count": 9,
     "metadata": {},
     "output_type": "execute_result"
    }
   ],
   "source": [
    "x_target_center, y_target_center = calc_gear_peg_location(x_center_left_tape_pixels + 1.0, height_left_tape_pixels + 1.0, \n",
    "                           x_center_right_tape_pixels + 1.0, height_right_tape_pixels + 1.0)\n",
    "x_target_center, y_target_center"
   ]
  },
  {
   "cell_type": "markdown",
   "metadata": {},
   "source": [
    "#### Looks like not much, which is good"
   ]
  }
 ],
 "metadata": {
  "kernelspec": {
   "display_name": "Python 2",
   "language": "python",
   "name": "python2"
  },
  "language_info": {
   "codemirror_mode": {
    "name": "ipython",
    "version": 2
   },
   "file_extension": ".py",
   "mimetype": "text/x-python",
   "name": "python",
   "nbconvert_exporter": "python",
   "pygments_lexer": "ipython2",
   "version": "2.7.11"
  }
 },
 "nbformat": 4,
 "nbformat_minor": 0
}
